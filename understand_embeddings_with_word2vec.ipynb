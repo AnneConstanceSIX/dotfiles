{
  "nbformat": 4,
  "nbformat_minor": 0,
  "metadata": {
    "accelerator": "TPU",
    "colab": {
      "name": "understand-embeddings-with-word2vec.ipynb",
      "provenance": [],
      "include_colab_link": true
    },
    "kernelspec": {
      "display_name": "Python 3",
      "language": "python",
      "name": "python3"
    },
    "language_info": {
      "codemirror_mode": {
        "name": "ipython",
        "version": 3
      },
      "file_extension": ".py",
      "mimetype": "text/x-python",
      "name": "python",
      "nbconvert_exporter": "python",
      "pygments_lexer": "ipython3",
      "version": "3.8.6"
    },
    "toc": {
      "base_numbering": 1,
      "nav_menu": {},
      "number_sections": false,
      "sideBar": true,
      "skip_h1_title": false,
      "title_cell": "Table of Contents",
      "title_sidebar": "Contents",
      "toc_cell": false,
      "toc_position": {},
      "toc_section_display": true,
      "toc_window_display": false
    },
    "varInspector": {
      "cols": {
        "lenName": 16,
        "lenType": 16,
        "lenVar": 40
      },
      "kernels_config": {
        "python": {
          "delete_cmd_postfix": "",
          "delete_cmd_prefix": "del ",
          "library": "var_list.py",
          "varRefreshCmd": "print(var_dic_list())"
        },
        "r": {
          "delete_cmd_postfix": ") ",
          "delete_cmd_prefix": "rm(",
          "library": "var_list.r",
          "varRefreshCmd": "cat(var_dic_list()) "
        }
      },
      "types_to_exclude": [
        "module",
        "function",
        "builtin_function_or_method",
        "instance",
        "_Feature"
      ],
      "window_display": false
    }
  },
  "cells": [
    {
      "cell_type": "markdown",
      "metadata": {
        "id": "view-in-github",
        "colab_type": "text"
      },
      "source": [
        "<a href=\"https://colab.research.google.com/github/AnneConstanceSIX/dotfiles/blob/master/understand_embeddings_with_word2vec.ipynb\" target=\"_parent\"><img src=\"https://colab.research.google.com/assets/colab-badge.svg\" alt=\"Open In Colab\"/></a>"
      ]
    },
    {
      "cell_type": "markdown",
      "metadata": {
        "id": "fW_-vj79D5Uw"
      },
      "source": [
        "# Deep Learning - Day 5 - Understand embeddings with Word2Vec\n",
        "\n",
        "### Exercise objectives:\n",
        "- Convert words to vector representations thanks to embeddings\n",
        "- Discover the powerful Word2Vec algorithm\n",
        "\n",
        "<hr>\n",
        "<hr>\n",
        "\n",
        "Natural Language Processing corresponds to the automated study of language. To deal with texts, we have to convert them into meaningful representations that can be handled by computers. \n",
        "\n",
        "Usually, the first step consists of cleaning the data. As you have already done it during the past weeks, we won't emphasize this part today. However, if you have finished an exercise and you feel confortable with what you have, you are welcome to improve the data cleaning to achieve better performances.\n",
        "\n",
        "✅ **Good Practice** ✅ Never spend too much time on data cleaning! First, build the entire pipeline to have a baseline evaluation of your task. **Then, and only then, improve your data cleaning and _watch_ if it is really improving your score**. Otherwise, if you work on your data cleaning without baseline evaluation of your performances, you don't know whether your fancy data cleaning is improving the entire pipeline or not. And sometimes, it can get super counterintuitive ;)\n",
        "\n",
        "In this exercise, a large part of the data cleaning is already done. The next step is to convert each word of our vocabulary to a vector that can be fed to a Recurrent Neural Network. To do that, you will use the powerful and well-known Word2Vec algorithm.\n",
        "\n",
        "\n",
        "# The data\n",
        "\n",
        "Keras provides many datasets, among which the ÌMDB dataset: it corresponds to sentences that are movie reviews. Each of them is related to a score given by the review writer.\n",
        "\n",
        "❓ **Question** ❓ Let's first load the data. You don't have to understand what is going on in the function, it does not matter here.\n",
        "\n",
        "\n",
        "⚠️ **Warning** ⚠️ The `load_data` function has a `percentage_of_sentences` argument. Depending on your computer, there are chances that a too large number of sentences will make your compute slow down, or even freeze - your RAM can even overflow. For that reason, you can start with 20% of the sentences and see if your computer handles it. Otherwise, rerun with a lower number. On the other hand, you can increase the number if you feel like it. "
      ]
    },
    {
      "cell_type": "code",
      "metadata": {
        "colab": {
          "base_uri": "https://localhost:8080/"
        },
        "id": "SG1nLcjiD5U6",
        "outputId": "4f6c1ae9-127c-4c27-e1c8-e55e6e288882"
      },
      "source": [
        "from tensorflow.keras.datasets import imdb\n",
        "\n",
        "def load_data(percentage_of_sentences=None):\n",
        "    # Load the data\n",
        "    (sentences_train, y_train), (sentences_test, y_test) = imdb.load_data()\n",
        "    \n",
        "    # Take only a given percentage of the entire data\n",
        "    if percentage_of_sentences is not None:\n",
        "        assert(percentage_of_sentences> 0 and percentage_of_sentences<=100)\n",
        "        \n",
        "        len_train = int(percentage_of_sentences/100*len(sentences_train))\n",
        "        sentences_train = sentences_train[:len_train]\n",
        "        y_train = y_train[:len_train]\n",
        "        \n",
        "        len_test = int(percentage_of_sentences/100*len(sentences_test))\n",
        "        sentences_test = sentences_test[:len_test]\n",
        "        y_test = y_test[:len_test]\n",
        "            \n",
        "    # Load the {interger: word} representation\n",
        "    word_to_id = imdb.get_word_index()\n",
        "    word_to_id = {k:(v+3) for k,v in word_to_id.items()}\n",
        "    for i, w in enumerate(['<PAD>', '<START>', '<UNK>', '<UNUSED>']):\n",
        "        word_to_id[w] = i\n",
        "\n",
        "    id_to_word = {v:k for k, v in word_to_id.items()}\n",
        "\n",
        "    # Convert the list of integers to list of words (str)\n",
        "    X_train = [' '.join([id_to_word[_] for _ in sentence[1:]]) for sentence in sentences_train]\n",
        "    X_test = [' '.join([id_to_word[_] for _ in sentence[1:]]) for sentence in sentences_test]\n",
        "    \n",
        "    return X_train, y_train, X_test, y_test\n",
        "\n",
        "\n",
        "\n",
        "### Just run this cell to load the data\n",
        "X_train, y_train, X_test, y_test = load_data(percentage_of_sentences=20)"
      ],
      "execution_count": null,
      "outputs": [
        {
          "output_type": "stream",
          "text": [
            "<string>:6: VisibleDeprecationWarning: Creating an ndarray from ragged nested sequences (which is a list-or-tuple of lists-or-tuples-or ndarrays with different lengths or shapes) is deprecated. If you meant to do this, you must specify 'dtype=object' when creating the ndarray\n",
            "/usr/local/lib/python3.6/dist-packages/tensorflow/python/keras/datasets/imdb.py:159: VisibleDeprecationWarning: Creating an ndarray from ragged nested sequences (which is a list-or-tuple of lists-or-tuples-or ndarrays with different lengths or shapes) is deprecated. If you meant to do this, you must specify 'dtype=object' when creating the ndarray\n",
            "  x_train, y_train = np.array(xs[:idx]), np.array(labels[:idx])\n",
            "/usr/local/lib/python3.6/dist-packages/tensorflow/python/keras/datasets/imdb.py:160: VisibleDeprecationWarning: Creating an ndarray from ragged nested sequences (which is a list-or-tuple of lists-or-tuples-or ndarrays with different lengths or shapes) is deprecated. If you meant to do this, you must specify 'dtype=object' when creating the ndarray\n",
            "  x_test, y_test = np.array(xs[idx:]), np.array(labels[idx:])\n"
          ],
          "name": "stderr"
        }
      ]
    },
    {
      "cell_type": "markdown",
      "metadata": {
        "id": "T5tzymj1D5U9"
      },
      "source": [
        "Now that you have loaded the data, let's look at it!\n",
        "\n",
        "❓ **Question** ❓ `X_train` and `X_test` are lists of sentences. For each of them, let's print some of the sentences with their respective scores stored in `y_train` and `y_test."
      ]
    },
    {
      "cell_type": "code",
      "metadata": {
        "id": "m74qDNYxD5U-"
      },
      "source": [
        "# X_train = np.array(X_train)\n",
        "# X_test = np.array(X_test)\n",
        "# # X_train.shape, X_test.shape\n",
        "# X_train[:1],X_test[:1],y_train[:1],y_test[:1]"
      ],
      "execution_count": null,
      "outputs": []
    },
    {
      "cell_type": "markdown",
      "metadata": {
        "id": "FDEZQduND5U_"
      },
      "source": [
        "You probaly see that the data have already been cleaned a little. \n",
        "\n",
        "Moreover, the task corresponds to a binary classification problem:\n",
        "- label 0 corresponds to a negative review\n",
        "- label 1 corresponds to a positive review\n",
        "\n",
        "As for now, your sentences correspond to only a long string, but your neural network does not know that this string is composed of different words. For that reason, you must convert each sentence (the full string) into a list words, i.e. a list of separated strings.\n",
        "\n",
        "For instance, 'this is a good movie' should become ['this', 'is', 'a', 'good', 'movie'].\n",
        "\n",
        "❓ **Question** ❓ Write a function to convert `X_train` and `X_test` from list of strings (sentences) to list of list of strings (words)."
      ]
    },
    {
      "cell_type": "code",
      "metadata": {
        "colab": {
          "base_uri": "https://localhost:8080/"
        },
        "id": "Qin5TBvyD5VA",
        "outputId": "8e0df645-91b0-4ed1-e753-70b652e9bb65"
      },
      "source": [
        "type(X_train[0])"
      ],
      "execution_count": null,
      "outputs": [
        {
          "output_type": "execute_result",
          "data": {
            "text/plain": [
              "str"
            ]
          },
          "metadata": {
            "tags": []
          },
          "execution_count": 3
        }
      ]
    },
    {
      "cell_type": "code",
      "metadata": {
        "id": "AslXB35jD5VB"
      },
      "source": [
        "def convert_to_lol(X):\n",
        "    results = []\n",
        "    for el in X:\n",
        "        results.append(el.split())\n",
        "    return results\n",
        "\n",
        "X_train_tokenized = convert_to_lol(X_train)\n",
        "X_test_tokenized = convert_to_lol(X_test)\n"
      ],
      "execution_count": null,
      "outputs": []
    },
    {
      "cell_type": "markdown",
      "metadata": {
        "id": "wW4IDsu_D5Vg"
      },
      "source": [
        "It is impossible to use strings into Neural Networks. Therefore, we have to convert each word into a mathematical representation, namely a vector. By the way, if a word is represented by a vector of size N, then a sentence of M words is represented by a vector of size M x N.\n",
        "\n",
        "All your words will then be vector (or points) in an N-dimensional space. This space is called the embedding space. And there are many ways to create this embedding space. Let's discover it.\n",
        "\n",
        "\n",
        "# Embedding with Word2Vec\n",
        "\n",
        "Now, let's use Word2Vec to embed the words of our sentences. Word2Vec will be able to convert each word to a fixed-size vectorial representation.\n",
        "\n",
        "For instance, we will have:\n",
        "- 'dog' --> [0.1, -0.3, 0.8]\n",
        "- 'cat' --> [-1.1, 2.3, 0.7]\n",
        "- 'apple' --> [3.1, 0.9, -4.7]\n",
        "\n",
        "Here, your embedding space is of size 3.\n",
        "\n",
        "What you expect is to have representation such as words with close meanings are close in this embedding space. As on this example:\n",
        "\n",
        "![Embedding](word_embedding.png)\n",
        "\n",
        "❓ **Question** ❓ Let's run Word2Vec! The following code imports word2vec from gensim, a great python package that makes the use of the word2vec algorithm easy, fast and accurate - which is not an easy task. The second line learns the embedding representation of the words thanks to the sentences in `X_train`."
      ]
    },
    {
      "cell_type": "code",
      "metadata": {
        "colab": {
          "base_uri": "https://localhost:8080/"
        },
        "id": "gb5QR5LXD5Vh",
        "outputId": "dd331832-2b9e-49b9-8f52-84e45a2a472b"
      },
      "source": [
        "!pip install gensim"
      ],
      "execution_count": null,
      "outputs": [
        {
          "output_type": "stream",
          "text": [
            "Requirement already satisfied: gensim in /usr/local/lib/python3.6/dist-packages (3.6.0)\n",
            "Requirement already satisfied: numpy>=1.11.3 in /usr/local/lib/python3.6/dist-packages (from gensim) (1.19.5)\n",
            "Requirement already satisfied: smart-open>=1.2.1 in /usr/local/lib/python3.6/dist-packages (from gensim) (4.1.2)\n",
            "Requirement already satisfied: six>=1.5.0 in /usr/local/lib/python3.6/dist-packages (from gensim) (1.15.0)\n",
            "Requirement already satisfied: scipy>=0.18.1 in /usr/local/lib/python3.6/dist-packages (from gensim) (1.4.1)\n"
          ],
          "name": "stdout"
        }
      ]
    },
    {
      "cell_type": "code",
      "metadata": {
        "id": "SSIFZB3AD5Vh"
      },
      "source": [
        "\n",
        "from gensim.models import Word2Vec\n",
        "\n",
        "word2vec = Word2Vec(sentences=X_train_tokenized)"
      ],
      "execution_count": null,
      "outputs": []
    },
    {
      "cell_type": "markdown",
      "metadata": {
        "id": "jHJor8ypD5Vh"
      },
      "source": [
        "Let's look at the embedded representation of some words.\n",
        "\n",
        "You can use `word2vec.wv` as a dictionnary.\n",
        "For instance, `word2vec.wv['dog']` will return a representation of `dog` in the embedding space.\n",
        "\n",
        "❓ **Question** ❓ Try different words - especially, try non-existing words to see that they don't have any representation (which is perfectly normal as their representation were not learn). "
      ]
    },
    {
      "cell_type": "code",
      "metadata": {
        "colab": {
          "base_uri": "https://localhost:8080/"
        },
        "id": "xP46KQ75D5Vi",
        "outputId": "c7d0ac26-88cd-490e-f68b-28aa5e1b2af2"
      },
      "source": [
        "test = word2vec.wv['dog']\r\n",
        "test.shape"
      ],
      "execution_count": null,
      "outputs": [
        {
          "output_type": "execute_result",
          "data": {
            "text/plain": [
              "(100,)"
            ]
          },
          "metadata": {
            "tags": []
          },
          "execution_count": 7
        }
      ]
    },
    {
      "cell_type": "markdown",
      "metadata": {
        "id": "Jsv-wNPyD5Vi"
      },
      "source": [
        "❓ **Question** ❓ What is the size of each word representation, and therefore, what is the size of the embedding space?"
      ]
    },
    {
      "cell_type": "code",
      "metadata": {
        "colab": {
          "base_uri": "https://localhost:8080/"
        },
        "id": "bFALKkkOD5Vj",
        "outputId": "e6f83e61-eb3e-4b6d-a5d5-a97707dfab72"
      },
      "source": [
        "(100,1)"
      ],
      "execution_count": null,
      "outputs": [
        {
          "output_type": "execute_result",
          "data": {
            "text/plain": [
              "(100, 1)"
            ]
          },
          "metadata": {
            "tags": []
          },
          "execution_count": 8
        }
      ]
    },
    {
      "cell_type": "markdown",
      "metadata": {
        "id": "JMW4EDklD5Vj"
      },
      "source": [
        "How to know if this embedding make any sense? To do that, we will check that words with a close meaning have close representations. \n",
        "\n",
        "Let's use the `most_similar` method that, given an input word, display the \"closest\" words in the embedding space. If the embedding is well done, then words that have close meanings will have close representation in the embedding space.\n",
        "\n",
        "❓ **Question** ❓ Test the `most_similar` method on different words. \n",
        "\n",
        "❗ **Remark** ❗ Indeed, the quality of the closeness will depend on the quality of your embedding, and thus, depend on the number of sentences that you have loaded and from which you create your embedding."
      ]
    },
    {
      "cell_type": "code",
      "metadata": {
        "colab": {
          "base_uri": "https://localhost:8080/"
        },
        "id": "Ccdgg1nmD5Vj",
        "outputId": "6ea60fcf-8f82-499c-cd09-96017c01e371"
      },
      "source": [
        "word2vec.wv.most_similar(\"marry\")\n",
        "\n",
        "### TRY OTHER WORDS"
      ],
      "execution_count": null,
      "outputs": [
        {
          "output_type": "execute_result",
          "data": {
            "text/plain": [
              "[('announces', 0.9485450387001038),\n",
              " ('defend', 0.9391080141067505),\n",
              " ('adopt', 0.9346333146095276),\n",
              " ('seduce', 0.9300663471221924),\n",
              " ('fortune', 0.9180886745452881),\n",
              " ('hide', 0.917282223701477),\n",
              " ('raise', 0.9149497747421265),\n",
              " ('steal', 0.9127718210220337),\n",
              " ('investigate', 0.9124159216880798),\n",
              " ('returns', 0.9108856320381165)]"
            ]
          },
          "metadata": {
            "tags": []
          },
          "execution_count": 9
        }
      ]
    },
    {
      "cell_type": "markdown",
      "metadata": {
        "id": "ynKytcFLD5Vk"
      },
      "source": [
        "Similarly to `most_similar` used on words directly, we can use `similar_by_vector` on vectors to do the same thing :"
      ]
    },
    {
      "cell_type": "code",
      "metadata": {
        "colab": {
          "base_uri": "https://localhost:8080/"
        },
        "id": "4kK63n5xD5Vk",
        "outputId": "9f7a0dd3-269c-4b2f-dd74-4df2b2d80189"
      },
      "source": [
        "word_embedding = word2vec.wv['car']\n",
        "word2vec.wv.similar_by_vector(word_embedding)"
      ],
      "execution_count": null,
      "outputs": [
        {
          "output_type": "execute_result",
          "data": {
            "text/plain": [
              "[('car', 1.0),\n",
              " ('party', 0.938151478767395),\n",
              " ('room', 0.9210225939750671),\n",
              " ('hospital', 0.9122037887573242),\n",
              " ('door', 0.909798264503479),\n",
              " ('bed', 0.9087197780609131),\n",
              " ('hotel', 0.9050126671791077),\n",
              " ('mom', 0.9013212323188782),\n",
              " ('body', 0.8995308876037598),\n",
              " ('bus', 0.8951395750045776)]"
            ]
          },
          "metadata": {
            "tags": []
          },
          "execution_count": 10
        }
      ]
    },
    {
      "cell_type": "markdown",
      "metadata": {
        "id": "eauYe4qaD5Vk"
      },
      "source": [
        "# Arithmetic on words\n",
        "\n",
        "Now, let's do mathematical operations on words - meaning on their vector representations!\n",
        "\n",
        "As any word is represented as a vector, you can do basic arithmetic as\n",
        "\n",
        "W2V(good) - W2V(bad)\n",
        "\n",
        "❓ **Question** ❓ Do this mathematical operation and print the result"
      ]
    },
    {
      "cell_type": "code",
      "metadata": {
        "colab": {
          "base_uri": "https://localhost:8080/"
        },
        "id": "K74YWr6VD5Vl",
        "outputId": "10dcc603-1212-44e7-acad-ca6ceba84e00"
      },
      "source": [
        "test = word2vec.wv['good']-word2vec.wv['bad']\r\n",
        "word2vec.wv.similar_by_vector(\"test\")"
      ],
      "execution_count": null,
      "outputs": [
        {
          "output_type": "execute_result",
          "data": {
            "text/plain": [
              "[('clock', 0.9451408386230469),\n",
              " ('ins', 0.9353293180465698),\n",
              " ('monologue', 0.9270963072776794),\n",
              " ('bath', 0.9258179068565369),\n",
              " ('vacation', 0.9255039691925049),\n",
              " ('bargain', 0.9238163232803345),\n",
              " ('failing', 0.9220944046974182),\n",
              " ('freedom', 0.9201915264129639),\n",
              " ('cyborgs', 0.9196611046791077),\n",
              " ('gas', 0.9195443987846375)]"
            ]
          },
          "metadata": {
            "tags": []
          },
          "execution_count": 11
        }
      ]
    },
    {
      "cell_type": "markdown",
      "metadata": {
        "id": "s89SUHytD5Vl"
      },
      "source": [
        "Now, image for a second that, somehow, the following equality holds true - just for a second\n",
        "\n",
        "    W2V(good) - W2V(bad) = W2V(nice) - W2V(unpleasant)\n",
        "\n",
        "which is equivalent to \n",
        "\n",
        "    W2V(good) - W2V(bad) + W2V(unpleasant) = W2V(nice).\n",
        "\n",
        "❓ **Question** ❓ Let's, just for fun (as it would be foolish of us to think that this equality holds true ...), do the operation W2V(good) - W2V(bad) + W2V(unpleasant) and store it in a `res` variable (which will be a vector of size 100 that you can print)."
      ]
    },
    {
      "cell_type": "code",
      "metadata": {
        "colab": {
          "base_uri": "https://localhost:8080/"
        },
        "id": "N0m14NJcD5Vl",
        "outputId": "5e3d38ba-baa2-449f-d325-eb6e323a38f2"
      },
      "source": [
        "res = word2vec.wv['good']-word2vec.wv['bad'] + word2vec.wv['unpleasant']\r\n",
        "res"
      ],
      "execution_count": null,
      "outputs": [
        {
          "output_type": "execute_result",
          "data": {
            "text/plain": [
              "array([ 7.4018240e-01, -7.4614960e-01, -3.4747869e-01,  7.2894681e-01,\n",
              "        3.8799667e-01, -1.6343297e-01, -3.0566141e-01,  5.8542079e-01,\n",
              "       -6.0696244e-01, -1.0421425e-01, -1.0627875e-01, -1.8598793e-01,\n",
              "        5.0063837e-01, -4.1106981e-01,  6.7825598e-01, -2.7707286e-02,\n",
              "       -4.3663293e-01,  1.1925995e+00,  1.7203550e-01,  7.6853669e-01,\n",
              "        6.5702337e-01,  1.2391787e+00,  3.0378193e-01,  5.5544806e-01,\n",
              "        3.9608380e-01, -5.1618177e-01, -1.2256262e-01, -8.3937585e-02,\n",
              "       -3.7311420e-02, -1.5818521e-01, -3.2257912e-01, -8.3116680e-02,\n",
              "       -1.0447757e-01,  4.0002137e-01, -2.4161741e-02,  2.2656761e-02,\n",
              "        2.9819715e-01, -1.3240677e+00, -8.5263216e-01, -3.6931401e-01,\n",
              "        1.3132216e+00, -2.3157677e-01, -2.1521717e-01,  1.1834718e-01,\n",
              "       -3.8346219e-01,  1.0457259e+00, -9.0656811e-01, -3.9581791e-01,\n",
              "        5.0301564e-01,  8.0207729e-01, -8.7548107e-02, -1.5101178e-01,\n",
              "       -7.7942765e-01,  1.1521851e+00,  5.1941052e-03, -3.8222128e-01,\n",
              "       -4.5681648e-02,  3.6759442e-01, -1.0031792e+00,  6.4395666e-01,\n",
              "        2.1739057e-01, -1.2052875e+00, -4.6851803e-02, -7.3111701e-01,\n",
              "       -1.3713806e+00,  1.8706384e-01, -6.5445781e-01, -5.1507807e-01,\n",
              "        5.3852722e-02, -5.0415570e-01, -5.5630165e-01,  1.7337371e-01,\n",
              "        1.4461821e-01,  6.7220137e-02,  1.9153437e-01,  3.0896661e-01,\n",
              "        7.8796816e-01, -7.7500129e-01, -8.4428795e-02, -4.2477906e-01,\n",
              "       -4.9064294e-01,  3.1215176e-01,  5.1745594e-01,  9.7115196e-02,\n",
              "       -5.4334104e-04, -4.7972941e-01,  5.1295263e-01, -1.0259897e+00,\n",
              "       -1.1121849e+00, -5.8635491e-01, -1.6903761e-01,  5.3137636e-01,\n",
              "        7.3675886e-03,  5.7033673e-02,  1.6536742e-02,  9.0585428e-01,\n",
              "        2.2595042e-01, -3.1003046e-01, -7.7054757e-01,  5.4142994e-01],\n",
              "      dtype=float32)"
            ]
          },
          "metadata": {
            "tags": []
          },
          "execution_count": 12
        }
      ]
    },
    {
      "cell_type": "markdown",
      "metadata": {
        "id": "UJQO4aueD5Vn"
      },
      "source": [
        "We earlier said that, for any vector, it is possible to see the closest vectors in the embedding space.\n",
        "\n",
        "❓ **Question** ❓ Look at the closest vector (thanks to the `word2vec.wv.similar_by_vecto` function) of `res`"
      ]
    },
    {
      "cell_type": "code",
      "metadata": {
        "colab": {
          "base_uri": "https://localhost:8080/"
        },
        "id": "FVAs53EXD5Vn",
        "outputId": "0c24a906-ddd1-466b-8765-f5835f1a2b2b"
      },
      "source": [
        "word2vec.wv.similar_by_vector(res)"
      ],
      "execution_count": null,
      "outputs": [
        {
          "output_type": "execute_result",
          "data": {
            "text/plain": [
              "[('nice', 0.4608955979347229),\n",
              " ('hustler', 0.45844483375549316),\n",
              " ('fine', 0.43382036685943604),\n",
              " ('given', 0.42442256212234497),\n",
              " ('good', 0.40850603580474854),\n",
              " ('noted', 0.40088871121406555),\n",
              " ('strong', 0.3963754177093506),\n",
              " ('result', 0.39249780774116516),\n",
              " ('creative', 0.3868227005004883),\n",
              " ('maintains', 0.3818341791629791)]"
            ]
          },
          "metadata": {
            "tags": []
          },
          "execution_count": 13
        }
      ]
    },
    {
      "cell_type": "markdown",
      "metadata": {
        "id": "xD1NKEmyD5Vo"
      },
      "source": [
        "Incredible right! You can do arithmetical operations on words!\n",
        "\n",
        "❓ **Question** ❓ You can try on arithmetic such as \n",
        "\n",
        "W2V(Boy) - W2V(Girl) = W2V(Man) - W2V(Woman)\n",
        "\n",
        "or \n",
        "\n",
        "W2V(Queen) - W2V(King) = W2V(actress) - W2V(actor)\n",
        "\n",
        "❗ **Remark** ❗ You will probably see that the results are not perfect. But don't forget that you trained your model on a very small corpus."
      ]
    },
    {
      "cell_type": "code",
      "metadata": {
        "id": "l2P5uxpOD5Vp"
      },
      "source": [
        "cinema = word2vec.wv['actress']-word2vec.wv['actor']\r\n",
        "crown = word2vec.wv['queen']-word2vec.wv['king']\r\n"
      ],
      "execution_count": null,
      "outputs": []
    },
    {
      "cell_type": "markdown",
      "metadata": {
        "id": "DGQfN4leD5Vp"
      },
      "source": [
        "You might wonder where does this magic comes from (at quite a low price, you just run a line of code on a very small corpus and it was trained within few minutes). The magic comes from the way Word2Vec is trained. The details are quite complex, but you can remembed that Word2vec, in `word2vec = Word2Vec(sentences=X_train)` , actually trains a internal neural network (that you don't see).  \n",
        "\n",
        "In a nutshell, this internal NN predicts a word from the surroundings words in a sentences. So it chooses many splits in the different sentences, choose some words as inputs $X$  and a word as output $y$ which it tries to predict, in the embedding space.\n",
        "\n",
        "And as any neural network, Word2Vec has some hyperparameters. Let's check some. \n",
        "\n",
        "\n",
        "# Word2Vec hyperparameters\n",
        "\n",
        "\n",
        "❓ **Question** ❓ The first important hyperparameter is the `size` argument. It corresponds to the size of the embedding space. Learn a new `word2vec_2` model, still trained on the `X_train`, but with a smaller or higher `size`.\n",
        "\n",
        "Verify on some words that the corresponding embedding is of your selected size."
      ]
    },
    {
      "cell_type": "code",
      "metadata": {
        "id": "TM3FenTyD5Vq"
      },
      "source": [
        "word2vec2 = Word2Vec(sentences=X_train_tokenized, size=50)"
      ],
      "execution_count": null,
      "outputs": []
    },
    {
      "cell_type": "code",
      "metadata": {
        "colab": {
          "base_uri": "https://localhost:8080/"
        },
        "id": "aDXJqY4wcEt8",
        "outputId": "0053b144-d621-4569-924a-3fa6ff4b174e"
      },
      "source": [
        "word2vec2.wv['man'], word2vec.wv['man']"
      ],
      "execution_count": null,
      "outputs": [
        {
          "output_type": "execute_result",
          "data": {
            "text/plain": [
              "(array([ 0.11221218,  0.60257035,  0.5004472 ,  0.9897974 ,  0.60476303,\n",
              "         0.38149357, -0.8357835 , -0.7128583 , -0.03932642,  2.1031759 ,\n",
              "        -0.89465916,  1.9667023 ,  0.6204395 ,  3.0540771 ,  0.9959149 ,\n",
              "         0.54666865,  0.3590649 ,  0.77340394, -1.4148265 ,  1.9086397 ,\n",
              "         0.86798006,  0.17191708,  0.73927385, -1.3436655 ,  0.63774717,\n",
              "         0.59836894, -1.6078321 ,  0.16062538,  0.94741136, -1.1394278 ,\n",
              "         1.0480739 , -1.1923987 ,  1.5781481 , -0.05113498, -0.416277  ,\n",
              "        -0.15610625, -1.0028476 ,  0.20437273, -2.105333  ,  0.0377797 ,\n",
              "         0.33248717, -0.6789749 ,  0.3273827 ,  0.05680087,  0.17855418,\n",
              "         1.016782  , -1.1119645 ,  0.8219374 ,  0.00699073,  0.58840436],\n",
              "       dtype=float32),\n",
              " array([ 0.06865559,  0.65202814,  0.5512152 ,  0.07330737,  0.27154592,\n",
              "         0.26457807, -0.31848451, -0.4952024 , -0.16743636,  2.0682993 ,\n",
              "        -0.31329983,  1.4075071 ,  0.05083172,  1.1441373 ,  0.4460182 ,\n",
              "        -0.1123168 ,  0.28971034,  0.19595797, -1.1971179 ,  1.0125499 ,\n",
              "         1.1056992 ,  0.05586576, -0.4441303 , -0.65385413, -0.01170136,\n",
              "         0.10015229, -0.7135819 ,  0.5571292 ,  0.46428764, -0.5837812 ,\n",
              "        -0.05393296, -0.50612295,  1.298667  ,  0.26858217, -0.08328697,\n",
              "        -0.0496663 , -0.659597  ,  0.4452744 , -1.3342398 ,  0.36590645,\n",
              "         0.11754895, -0.39140826,  0.21355769,  0.33444703, -0.48616514,\n",
              "         1.1682653 , -0.2896853 ,  0.7457731 ,  0.03445645,  0.19392397,\n",
              "         0.46848866,  0.44198793,  0.5939954 ,  0.5719146 , -0.93711156,\n",
              "         0.32799593, -0.87582636, -0.10079513,  0.51889926,  0.2522064 ,\n",
              "        -0.05387749,  0.2849934 ,  0.49488115, -0.73342395, -0.8090108 ,\n",
              "         1.7943175 , -0.5848051 ,  0.58111465,  0.38778412,  0.6549574 ,\n",
              "        -1.070352  ,  0.2661104 ,  0.95243186,  0.14943238,  0.76541996,\n",
              "         1.0077072 ,  1.0731618 ,  0.03390048,  1.9001044 , -0.49156278,\n",
              "        -1.0406493 , -0.19041386, -1.3334869 ,  0.09123904, -0.71524966,\n",
              "        -1.0147702 ,  1.0831501 ,  0.00531493, -0.28041685,  0.133441  ,\n",
              "        -0.9635292 , -0.56780136, -0.708394  , -0.3004211 ,  0.6469973 ,\n",
              "         1.0079454 ,  0.02638494,  0.01239826, -1.1356245 , -0.8353102 ],\n",
              "       dtype=float32))"
            ]
          },
          "metadata": {
            "tags": []
          },
          "execution_count": 19
        }
      ]
    },
    {
      "cell_type": "markdown",
      "metadata": {
        "id": "X3-lj9FfD5Vr"
      },
      "source": [
        "❓ **Question** ❓ Use the `word2vec.wv.vocab` attribute to display the size of the learnt vocabulary. On the other hand, compare it to the number of different words in `X_train`."
      ]
    },
    {
      "cell_type": "code",
      "metadata": {
        "colab": {
          "base_uri": "https://localhost:8080/"
        },
        "id": "_YSn6tRpD5Vr",
        "outputId": "c3630701-c7ca-4f78-f94b-fd647063d6db"
      },
      "source": [
        "len(word2vec2.wv.vocab), len(X_train_tokenized)"
      ],
      "execution_count": null,
      "outputs": [
        {
          "output_type": "execute_result",
          "data": {
            "text/plain": [
              "(12934, 5000)"
            ]
          },
          "metadata": {
            "tags": []
          },
          "execution_count": 23
        }
      ]
    },
    {
      "cell_type": "markdown",
      "metadata": {
        "id": "OSWXr9v_D5Vr"
      },
      "source": [
        "There is an important difference between the number of words in the train sentences and in the Word2Vec vocabulary, even though it has been train on the train sentence set. The reasons comes from the second important hyperparameter of Word2Vec :  `min_count`. \n",
        "\n",
        "`min_count` is a integer that tells you how many occurences a given word should have to be learn in the embedding space. For instance, let's say that the word \"movie\" appears 1000 times in the corpus and \"simba\" only 2 times. If `min_count=3`, the word \"simba\" will be skipped during the training.\n",
        "\n",
        "The intention is to have only words that are sufficiently present in the corpus to have a robust embedded representation\n",
        "\n",
        "❓ **Question** ❓ Learn a new `word2vec_3` model with a `min_count` higher than 5 (which is the default value) and a `word2vec_4` with a `min_count` smaller than 5, and then, compare the size of the vocabulary for all the different word2vec that you have trained (you can choose any `size` you want)."
      ]
    },
    {
      "cell_type": "code",
      "metadata": {
        "id": "ZNeYKKvlD5Vs"
      },
      "source": [
        "word2vec_3 = Word2Vec(sentences=X_train_tokenized, size=100, min_count=10)"
      ],
      "execution_count": null,
      "outputs": []
    },
    {
      "cell_type": "code",
      "metadata": {
        "id": "EhIFAcPleAL-"
      },
      "source": [
        "word2vec_4 = Word2Vec(sentences=X_train_tokenized, size=100, min_count=3)"
      ],
      "execution_count": null,
      "outputs": []
    },
    {
      "cell_type": "markdown",
      "metadata": {
        "id": "J1pxYox3D5Vs"
      },
      "source": [
        "Remember that we say that word2vec has an internal neural network that it optimizes based on some predictions? These predictions actually correspond to predicting a word based on surrounding words. The surroundings words are in a `window` which corresponds to the number of words taken into account. And you can train the word2vec with different `window` sizes.\n",
        "\n",
        "❓ **Question** ❓ Learn a new `word2vec_5` model with a `window` different than previously (default is 5)."
      ]
    },
    {
      "cell_type": "code",
      "metadata": {
        "colab": {
          "base_uri": "https://localhost:8080/",
          "height": 201
        },
        "id": "-L9ZYzWlD5Vs",
        "outputId": "cdb59881-8b07-4cb6-a59d-31a625e1413b"
      },
      "source": [
        "word2vec_2 = Word2Vec(sentences=X_train_tokenized, size=50, min_count=2)\r\n",
        "word2vec_2 = Word2Vec(sentences=X_train_tokenized, size=50, min_count=10)\r\n",
        "word2vec_2 = Word2Vec(sentences=X_train_tokenized, size=50, min_count=20)\r\n",
        "word2vec_2.shape"
      ],
      "execution_count": null,
      "outputs": [
        {
          "output_type": "error",
          "ename": "AttributeError",
          "evalue": "ignored",
          "traceback": [
            "\u001b[0;31m---------------------------------------------------------------------------\u001b[0m",
            "\u001b[0;31mAttributeError\u001b[0m                            Traceback (most recent call last)",
            "\u001b[0;32m<ipython-input-29-e01521fee45e>\u001b[0m in \u001b[0;36m<module>\u001b[0;34m()\u001b[0m\n\u001b[1;32m      2\u001b[0m \u001b[0mword2vec_2\u001b[0m \u001b[0;34m=\u001b[0m \u001b[0mWord2Vec\u001b[0m\u001b[0;34m(\u001b[0m\u001b[0msentences\u001b[0m\u001b[0;34m=\u001b[0m\u001b[0mX_train_tokenized\u001b[0m\u001b[0;34m,\u001b[0m \u001b[0msize\u001b[0m\u001b[0;34m=\u001b[0m\u001b[0;36m50\u001b[0m\u001b[0;34m,\u001b[0m \u001b[0mmin_count\u001b[0m\u001b[0;34m=\u001b[0m\u001b[0;36m10\u001b[0m\u001b[0;34m)\u001b[0m\u001b[0;34m\u001b[0m\u001b[0;34m\u001b[0m\u001b[0m\n\u001b[1;32m      3\u001b[0m \u001b[0mword2vec_2\u001b[0m \u001b[0;34m=\u001b[0m \u001b[0mWord2Vec\u001b[0m\u001b[0;34m(\u001b[0m\u001b[0msentences\u001b[0m\u001b[0;34m=\u001b[0m\u001b[0mX_train_tokenized\u001b[0m\u001b[0;34m,\u001b[0m \u001b[0msize\u001b[0m\u001b[0;34m=\u001b[0m\u001b[0;36m50\u001b[0m\u001b[0;34m,\u001b[0m \u001b[0mmin_count\u001b[0m\u001b[0;34m=\u001b[0m\u001b[0;36m20\u001b[0m\u001b[0;34m)\u001b[0m\u001b[0;34m\u001b[0m\u001b[0;34m\u001b[0m\u001b[0m\n\u001b[0;32m----> 4\u001b[0;31m \u001b[0mword2vec_2\u001b[0m\u001b[0;34m.\u001b[0m\u001b[0mshape\u001b[0m\u001b[0;34m\u001b[0m\u001b[0;34m\u001b[0m\u001b[0m\n\u001b[0m",
            "\u001b[0;31mAttributeError\u001b[0m: 'Word2Vec' object has no attribute 'shape'"
          ]
        }
      ]
    },
    {
      "cell_type": "markdown",
      "metadata": {
        "id": "8MCr4dgLD5Vs"
      },
      "source": [
        "The arguments you have seen (`size`, `min_count` and `window`) are usually the one that you should start changing to get a better performance for your model.\n",
        "\n",
        "But you can also look at other arguments in the [documentation](https://radimrehurek.com/gensim/models/word2vec.html#gensim.models.word2vec.Text8Corpus)\n",
        "\n",
        "\n",
        "# Convert our train and test set to RNN ready data\n",
        "\n",
        "Now, let's convert the training and test data into their vector representation to be ready to be feed in RNNs.\n",
        "\n",
        "❓ **Question** ❓ Now, write a function that, given a sentence, returns a matrix that corresponds to the embedding of the full sentence, which means that you have to embeed each word one after the other and concatenate the result to output a 2D matrix (be sure that your output is a numpy array)\n",
        "\n",
        "❗ **Remark** ❗ You will probably notice that some words you are trying to convert throw errors as they are said not to belong to the dictionnary:\n",
        "\n",
        "- for the test set, this is understandable: some words were not in the train set and thus their embedded representation is unknwon\n",
        "- for the train set, due to `min_count` hyperparameter, not all the words have a vector representation\n",
        "\n",
        "In any case, just skip the missing words here."
      ]
    },
    {
      "cell_type": "code",
      "metadata": {
        "id": "Mdb9-KOGD5Vt"
      },
      "source": [
        "import numpy as np\n",
        "example = ['this', 'movie', 'is', 'the', 'worst', 'action', 'movie', 'ever']\n",
        "example_missing_words = ['this', 'movie', 'is', 'laaaaaaaaaame']\n",
        "\n",
        "def embed_sentence(word2vec, sentence):\n",
        "    return np.array([word2vec.wv[word] for word in sentence if word in word2vec.wv.vocab])\n",
        "\n",
        "### Checks\n",
        "embedded_sentence = embed_sentence(word2vec, example)\n",
        "assert(type(embedded_sentence) == np.ndarray)\n",
        "assert(embedded_sentence.shape == (8, 100))\n",
        "\n",
        "embedded_sentence_missing_words = embed_sentence(word2vec, example_missing_words)  \n",
        "assert(type(embedded_sentence_missing_words) == np.ndarray)\n",
        "assert(embedded_sentence_missing_words.shape == (3, 100))"
      ],
      "execution_count": null,
      "outputs": []
    },
    {
      "cell_type": "markdown",
      "metadata": {
        "id": "nwy5iMB2D5Vt"
      },
      "source": [
        "❓ **Question** ❓ Write a function that, given a list of sentence (each sentence being a list of words/strings), returns a list of embedded sentences (each sentence is a matrix). Apply this function to the train and test sentences\n",
        "\n",
        "Hint: Use the previous function `embed_sentence`"
      ]
    },
    {
      "cell_type": "code",
      "metadata": {
        "id": "lf9Z5MBAD5Vt"
      },
      "source": [
        "def embedding(word2vec, sentences):\n",
        "    return [embed_sentence(word2vec, sentence) for sentence in sentences]\n",
        "    \n",
        "X_train = embedding(word2vec, X_train)\n",
        "X_test = embedding(word2vec, X_test)"
      ],
      "execution_count": null,
      "outputs": []
    },
    {
      "cell_type": "markdown",
      "metadata": {
        "id": "DbyCVhjwD5Vt"
      },
      "source": [
        "❓ **Question** ❓ In order to have ready-to-use adta, do not forget to pad them, as yesterday, in order to have tensors that can be divided in batch sizes during the optimization. Store the padedd values in `X_train_pad` and `X_test_pad`. Do not forget the important arguments of the padding ;)"
      ]
    },
    {
      "cell_type": "code",
      "metadata": {
        "id": "oK4NXjCBD5Vu"
      },
      "source": [
        "from tensorflow.keras.preprocessing.sequence import pad_sequences\n",
        "\n",
        "X_train_pad = pad_sequences(X_train, dtype='float32', padding='post', value=-1000)\n",
        "X_test_pad = pad_sequences(X_test, dtype='float32', padding='post', value=-1000)\n",
        "\n",
        "assert(len(X_train_pad.shape) == 3)\n",
        "assert(len(X_test_pad.shape) == 3)\n",
        "assert(X_train_pad.shape[2] == 100)\n",
        "assert(X_test_pad.shape[2] == 100)"
      ],
      "execution_count": null,
      "outputs": []
    },
    {
      "cell_type": "markdown",
      "metadata": {
        "id": "n5s_UitKD5Vu"
      },
      "source": [
        "# Load existing models: transfer learning\n",
        "\n",
        "There is a possibility that your computer cannot train Word2Vec on large corpus (or just takes too much time, or just that you want a word2vec trained on a very large corpus). In that case, you can directly load word2Vec embedding that have been preprained on other corpuses. This is another example of transfer learning.\n",
        "\n",
        "❓ **Question** ❓ To do that, look at available corpuses thanks to the following command: "
      ]
    },
    {
      "cell_type": "code",
      "metadata": {
        "colab": {
          "base_uri": "https://localhost:8080/"
        },
        "id": "iGnytKU6D5Vu",
        "outputId": "f3022eda-b76b-4e6c-8103-cddd9f2210e6"
      },
      "source": [
        "import gensim.downloader as api\n",
        "print(list(api.info()['models'].keys()))"
      ],
      "execution_count": null,
      "outputs": [
        {
          "output_type": "stream",
          "text": [
            "['fasttext-wiki-news-subwords-300', 'conceptnet-numberbatch-17-06-300', 'word2vec-ruscorpora-300', 'word2vec-google-news-300', 'glove-wiki-gigaword-50', 'glove-wiki-gigaword-100', 'glove-wiki-gigaword-200', 'glove-wiki-gigaword-300', 'glove-twitter-25', 'glove-twitter-50', 'glove-twitter-100', 'glove-twitter-200', '__testing_word2vec-matrix-synopsis']\n"
          ],
          "name": "stdout"
        }
      ]
    },
    {
      "cell_type": "markdown",
      "metadata": {
        "id": "ycdasFrrD5Vv"
      },
      "source": [
        "❓ **Question** ❓ Load a pretrained model thanks to `api.load(name_of_your_corpus)` and check the size of the vocabulary, but also the size of the embedding space."
      ]
    },
    {
      "cell_type": "code",
      "metadata": {
        "colab": {
          "background_save": true,
          "base_uri": "https://localhost:8080/"
        },
        "id": "1B8XJWDQD5Vv",
        "outputId": "bd39c82d-c0fd-4499-f2ad-ed98d35ee3a0"
      },
      "source": [
        "api.load('glove-twitter-25')"
      ],
      "execution_count": null,
      "outputs": [
        {
          "output_type": "stream",
          "text": [
            "[==================================================] 100.0% 104.8/104.8MB downloaded\n"
          ],
          "name": "stdout"
        },
        {
          "output_type": "execute_result",
          "data": {
            "text/plain": [
              "<gensim.models.keyedvectors.Word2VecKeyedVectors at 0x7fc9046aada0>"
            ]
          },
          "metadata": {
            "tags": []
          },
          "execution_count": 0
        }
      ]
    },
    {
      "cell_type": "code",
      "metadata": {
        "id": "S0hAjS8nui68"
      },
      "source": [
        ""
      ],
      "execution_count": null,
      "outputs": []
    }
  ]
}